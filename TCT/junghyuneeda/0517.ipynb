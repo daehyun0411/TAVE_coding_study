{
 "cells": [
  {
   "cell_type": "markdown",
   "id": "e2913a0c",
   "metadata": {},
   "source": [
    "## 무지의 먹방 라이브"
   ]
  },
  {
   "cell_type": "code",
   "execution_count": 1,
   "id": "dd4ede37",
   "metadata": {},
   "outputs": [],
   "source": [
    "import heapq\n",
    "\n",
    "def solution(food_times, k):\n",
    "    \n",
    "    if sum(food_times) <= k:\n",
    "        return -1\n",
    "    \n",
    "    q = []\n",
    "    for i in range(len(food_times)):\n",
    "        heapq.heappush(q, (food_times[i], i+1))\n",
    "        \n",
    "    sum_value = 0 # 먹기 위해 사용한 시간\n",
    "    previous = 0 # 직전에 다 먹은 음식 시간\n",
    "    length = len(food_times) # 남은 음식 개수\n",
    "    \n",
    "    while sum_value + ((q[0][0] - previous) * length) <= k:\n",
    "        now = heapq.heappop(q)[0]\n",
    "        sum_value += (now - previous) * length\n",
    "        length -= 1\n",
    "        previous = now\n",
    "    \n",
    "    result = sorted(q, key=lambda x: x[1])\n",
    "    return result[(k - sum_value) % length][1]"
   ]
  },
  {
   "cell_type": "code",
   "execution_count": 2,
   "id": "1659907e",
   "metadata": {},
   "outputs": [
    {
     "data": {
      "text/plain": [
       "1"
      ]
     },
     "execution_count": 2,
     "metadata": {},
     "output_type": "execute_result"
    }
   ],
   "source": [
    "solution([3,1,2], 5)"
   ]
  },
  {
   "cell_type": "markdown",
   "id": "2afc95bc",
   "metadata": {},
   "source": [
    "## 럭키 스트레이트"
   ]
  },
  {
   "cell_type": "code",
   "execution_count": 3,
   "id": "645cb512",
   "metadata": {},
   "outputs": [
    {
     "name": "stdout",
     "output_type": "stream",
     "text": [
      "7755\n",
      "READY\n"
     ]
    }
   ],
   "source": [
    "n = input()\n",
    "\n",
    "left = 0\n",
    "right = 0\n",
    "\n",
    "for i in range(len(n)//2):\n",
    "    left += int(n[i])\n",
    "\n",
    "for i in range(len(n)//2, len(n)):\n",
    "    right += int(n[i])\n",
    "\n",
    "if left == right:\n",
    "    print('LUCKY')\n",
    "else:\n",
    "    print('READY')"
   ]
  },
  {
   "cell_type": "markdown",
   "id": "47cc9de6",
   "metadata": {},
   "source": [
    "## 문자열 재정렬"
   ]
  },
  {
   "cell_type": "code",
   "execution_count": 4,
   "id": "6a37592b",
   "metadata": {},
   "outputs": [
    {
     "name": "stdout",
     "output_type": "stream",
     "text": [
      "AJKDLSI412K4JSJ9D\n",
      "ADDIJJJKKLSS20"
     ]
    }
   ],
   "source": [
    "s = input()\n",
    "\n",
    "eng = []\n",
    "num = []\n",
    "\n",
    "for i in range(len(s)):\n",
    "    if s[i].isalpha():\n",
    "        eng.append(s[i])\n",
    "    else:\n",
    "        num.append(int(s[i]))\n",
    "\n",
    "eng.sort()\n",
    "eng.append(sum(num))\n",
    "\n",
    "for i in range(len(eng)):\n",
    "    print(eng[i], end='')"
   ]
  },
  {
   "cell_type": "markdown",
   "id": "f04ce172",
   "metadata": {},
   "source": [
    "## 문자열 압축"
   ]
  },
  {
   "cell_type": "code",
   "execution_count": 5,
   "id": "05cea0f3",
   "metadata": {},
   "outputs": [],
   "source": [
    "def solutions(s):\n",
    "    group_result = []\n",
    "\n",
    "    for i in range(1, len(s)//2 + 1):\n",
    "        \n",
    "        group = [s[j:j+i] for j in range(0, len(s), i)]\n",
    "        \n",
    "        count = 1\n",
    "        result = ''\n",
    "        \n",
    "        for k in range(len(group)-1):\n",
    "            if group[k] == group[k+1]:\n",
    "                count += 1\n",
    "            else:\n",
    "                if count >= 2:\n",
    "                    prev = str(count) + group[k]\n",
    "                else:\n",
    "                    prev = group[k]\n",
    "                result += prev\n",
    "                count = 1\n",
    "        if count >= 2:\n",
    "            result += str(count) + group[k+1]\n",
    "        else:\n",
    "            result += group[k+1]\n",
    "        \n",
    "        group_result.append(len(result))\n",
    "    \n",
    "    print(min(group_result))"
   ]
  },
  {
   "cell_type": "code",
   "execution_count": 6,
   "id": "ccdb4c5a",
   "metadata": {},
   "outputs": [
    {
     "name": "stdout",
     "output_type": "stream",
     "text": [
      "9\n"
     ]
    }
   ],
   "source": [
    "solutions('ababcdcdababcdcd')"
   ]
  },
  {
   "cell_type": "code",
   "execution_count": 7,
   "id": "6b2c5331",
   "metadata": {},
   "outputs": [],
   "source": [
    "# 답\n",
    "\n",
    "def solutions(s):\n",
    "    answer = len(s)\n",
    "    \n",
    "    for step in range(1, len(s) // 2 + 1):\n",
    "        compressed = ''\n",
    "        prev = s[0:step]\n",
    "        count = 1\n",
    "        \n",
    "        for j in range(step, len(s), step):\n",
    "            if prev == s[j:j + step]:\n",
    "                count += 1\n",
    "            else:\n",
    "                compressed += str(count) + prev if count >=2 else prev\n",
    "                prev = s[j:j + step]\n",
    "                count = 1\n",
    "        compressed += str(count) + prev if count >= 2 else prev\n",
    "        answer = min(answer, len(compressed))\n",
    "    return answer"
   ]
  },
  {
   "cell_type": "code",
   "execution_count": 8,
   "id": "3f0eb47f",
   "metadata": {},
   "outputs": [
    {
     "data": {
      "text/plain": [
       "7"
      ]
     },
     "execution_count": 8,
     "metadata": {},
     "output_type": "execute_result"
    }
   ],
   "source": [
    "solutions('aabbaccc')"
   ]
  },
  {
   "cell_type": "markdown",
   "id": "5dddda82",
   "metadata": {},
   "source": [
    "## 자물쇠와 열쇠"
   ]
  },
  {
   "cell_type": "code",
   "execution_count": 9,
   "id": "09ddde9c",
   "metadata": {},
   "outputs": [],
   "source": [
    "def match(arr, key, rot, r, c):\n",
    "    n = len(key)\n",
    "    for i in range(n):\n",
    "        for j in range(n):\n",
    "            if rot == 0:\n",
    "                arr[r + i][c + j] += key[i][j]\n",
    "            elif rot == 1:\n",
    "                arr[r + i][c + j] += key[n-1-j][i]\n",
    "            elif rot == 2:\n",
    "                arr[r + i][c + j] += key[n-1-i][n-1-j]\n",
    "            else:\n",
    "                arr[r + i][c + j] += key[j][n-1-i]\n",
    "\n",
    "def check(arr, offset, n):\n",
    "    for i in range(n):\n",
    "        for j in range(n):\n",
    "            if arr[offset + i][offset + j] != 1:\n",
    "                return False\n",
    "    return True\n",
    "                \n",
    "\n",
    "def solution(key, lock):\n",
    "    offset = len(key) - 1\n",
    "    for r in range(offset + len(lock)):\n",
    "        for c in range(offset + len(lock)):\n",
    "            for rot in range(4):\n",
    "                arr = [[0 for _ in range(58)] for _ in range(58)]\n",
    "                for i in range(len(lock)):\n",
    "                    for j in range(len(lock)):\n",
    "                        arr[offset + i][offset + j] = lock[i][j]\n",
    "                        \n",
    "                match(arr, key, rot, r, c)\n",
    "                \n",
    "                if check(arr, offset, len(lock)):\n",
    "                    return True\n",
    "    return False"
   ]
  },
  {
   "cell_type": "code",
   "execution_count": 10,
   "id": "c0990648",
   "metadata": {},
   "outputs": [
    {
     "data": {
      "text/plain": [
       "True"
      ]
     },
     "execution_count": 10,
     "metadata": {},
     "output_type": "execute_result"
    }
   ],
   "source": [
    "solution([[0,0,0],[1,0,0],[0,1,1]], [[1,1,1],[1,1,0],[1,0,1]])"
   ]
  }
 ],
 "metadata": {
  "kernelspec": {
   "display_name": "Python 3 (ipykernel)",
   "language": "python",
   "name": "python3"
  },
  "language_info": {
   "codemirror_mode": {
    "name": "ipython",
    "version": 3
   },
   "file_extension": ".py",
   "mimetype": "text/x-python",
   "name": "python",
   "nbconvert_exporter": "python",
   "pygments_lexer": "ipython3",
   "version": "3.9.7"
  }
 },
 "nbformat": 4,
 "nbformat_minor": 5
}
