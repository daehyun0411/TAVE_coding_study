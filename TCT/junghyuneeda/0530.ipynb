{
 "cells": [
  {
   "cell_type": "markdown",
   "id": "34c88c69",
   "metadata": {},
   "source": [
    "## 뱀"
   ]
  },
  {
   "cell_type": "code",
   "execution_count": 20,
   "id": "735144bf",
   "metadata": {},
   "outputs": [
    {
     "name": "stdout",
     "output_type": "stream",
     "text": [
      "6\n",
      "3\n",
      "3 4\n",
      "2 5\n",
      "5 3\n",
      "3\n",
      "3 D\n",
      "15 L\n",
      "17 D\n",
      "9\n"
     ]
    }
   ],
   "source": [
    "n = int(input())\n",
    "k = int(input())\n",
    "\n",
    "data = [[0] * (n + 1) for _ in range(n + 1)]\n",
    "info = []\n",
    "\n",
    "for _ in range(k):\n",
    "    a, b = map(int, input().split())\n",
    "    data[a][b] = 1\n",
    "\n",
    "l = int(input())\n",
    "for _ in range(l):\n",
    "    x, c = input().split()\n",
    "    info.append((int(x), c))\n",
    "\n",
    "# 동 남 서 북\n",
    "dx = [0, 1, 0, -1]\n",
    "dy = [1, 0, -1, 0]\n",
    "\n",
    "def turn(direction, c):\n",
    "    if c == \"L\":\n",
    "        direction = (direction - 1) % 4\n",
    "    else:\n",
    "        direction = (direction + 1) % 4\n",
    "    return direction\n",
    "\n",
    "def simulate():\n",
    "    x, y = 1, 1 # 머리 위치\n",
    "    data[x][y] = 2\n",
    "    direction = 0\n",
    "    time = 0\n",
    "    index = 0 # 다음 회전 정보\n",
    "    q = [(x, y)]\n",
    "    while True:\n",
    "        nx = x + dx[direction]\n",
    "        ny = y + dy[direction]\n",
    "        \n",
    "        if 1 <= nx and nx <= n and 1 <= ny and ny <= n and data[nx][ny] != 2:\n",
    "            # 사과가 없는 경우\n",
    "            if data[nx][ny] == 0:\n",
    "                data[nx][ny] = 2\n",
    "                q.append((nx, ny))\n",
    "                px, py = q.pop(0)\n",
    "                data[px][py] = 0\n",
    "            # 사과가 있는 경우\n",
    "            if data[nx][ny] == 1:\n",
    "                data[nx][ny] = 2\n",
    "                q.append((nx, ny))\n",
    "        else:\n",
    "            time += 1\n",
    "            break\n",
    "        x, y = nx, ny\n",
    "        time += 1\n",
    "        if index < l and time == info[index][0]:\n",
    "            direction = turn(direction, info[index][1])\n",
    "            index += 1\n",
    "    return time\n",
    "\n",
    "print(simulate())"
   ]
  },
  {
   "cell_type": "markdown",
   "id": "86ad61c7",
   "metadata": {},
   "source": [
    "## 기둥과 보 설치"
   ]
  },
  {
   "cell_type": "code",
   "execution_count": 97,
   "id": "ba595556",
   "metadata": {},
   "outputs": [],
   "source": [
    "# 런타임 에러..\n",
    "\n",
    "n = 5\n",
    "build_frame = [[0,0,0,1],[2,0,0,1],[4,0,0,1],[0,1,1,1],[1,1,1,1],[2,1,1,1],[3,1,1,1],[2,0,0,0],[1,1,1,0],[2,2,0,1]]\n",
    "\n",
    "def solution(n, build_frame):\n",
    "    a_start = [] # 기둥\n",
    "    a_end = []\n",
    "    b_start = [] # 보\n",
    "    b_end = [] \n",
    "    \n",
    "    for i in build_frame:\n",
    "        if i[3] == 1: # 설치\n",
    "            if i[2] == 0: # 기둥\n",
    "                if i[1] == 0 or (i[0], i[1]) in a_end:\n",
    "                    a_start.append((i[0], i[1]))\n",
    "                    a_end.append((i[0], i[1]+1))\n",
    "                else:\n",
    "                    pass\n",
    "            else: # 보\n",
    "                if (i[0], i[1]) in a_end or (i[0]+1, i[1]) in a_end or ((i[0], i[1]) in b_end and (i[0]+1, i[1]) in b_start):\n",
    "                    b_start.append((i[0], i[1]))\n",
    "                    b_end.append((i[0]+1, i[1]))\n",
    "                else:\n",
    "                    pass\n",
    "        else: # 삭제\n",
    "            if i[2] == 0: # 기둥\n",
    "                if (i[0], i[1]+1) not in a_start or ((i[0], i[1]+1) in b_start and (i[0], i[1]+1) in b_end):\n",
    "                    a_start.remove((i[0], i[1]))\n",
    "                    a_end.remove((i[0], i[1]+1))\n",
    "                else:\n",
    "                    pass\n",
    "            else: # 보\n",
    "                if (i[0], i[1]) in a_end or (i[0]+1, i[1]) in a_start:\n",
    "                    b_start.remove((i[0], i[1]))\n",
    "                    b_end.remove((i[0]+1, i[1]))\n",
    "                else:\n",
    "                    pass\n",
    "    \n",
    "    result = []\n",
    "    \n",
    "    for j in a_start:\n",
    "        if j[1] == 0:\n",
    "            point = [j[0], j[1], 0]\n",
    "            result.append(point)\n",
    "    \n",
    "    for k in b_start:\n",
    "        point = [k[0], k[1], 1]\n",
    "        result.append(point)\n",
    "    \n",
    "    result.sort()\n",
    "    \n",
    "    return result\n",
    "            "
   ]
  },
  {
   "cell_type": "code",
   "execution_count": 93,
   "id": "53a12f79",
   "metadata": {},
   "outputs": [
    {
     "data": {
      "text/plain": [
       "[[0, 0, 0], [0, 1, 1], [1, 1, 1], [2, 1, 1], [3, 1, 1], [4, 0, 0]]"
      ]
     },
     "execution_count": 93,
     "metadata": {},
     "output_type": "execute_result"
    }
   ],
   "source": [
    "solution(n, build_frame)"
   ]
  },
  {
   "cell_type": "code",
   "execution_count": 98,
   "id": "cf963aee",
   "metadata": {},
   "outputs": [],
   "source": [
    "# 답\n",
    "\n",
    "# 현재 설치된 구조물이 '가능한' 구조물인지 확인\n",
    "def possible(answer):\n",
    "    for x, y, stuff in answer:\n",
    "        if stuff == 0: # 기둥\n",
    "            # 바닥 위 or 보 한 쪽 끝 부분 위 or 다른 기둥 위\n",
    "            if y == 0 or [x - 1, y, 1] in answer or [x, y, 1] in answer or [x, y - 1, 0] in answer:\n",
    "                continue\n",
    "            return False\n",
    "        elif stuff == 1: # 보\n",
    "            # 한 쪽 끝 부분이 기둥 위 or 양쪽 끝부분이 다른 보와 동시에 연결\n",
    "            if [x, y - 1, 0] in answer or [x + 1, y - 1, 0] in answer or ([x - 1, y, 1] in answer and [x + 1, y, 1] in answer):\n",
    "                continue\n",
    "            return False\n",
    "    return True\n",
    "\n",
    "def solution(n, build_frame):\n",
    "    answer = []\n",
    "    for frame in build_frame:\n",
    "        x, y, stuff, operate = frame\n",
    "        if operate == 0: # 삭제\n",
    "            answer.remove([x, y, stuff]) # 삭제 한 후\n",
    "            if not possible(answer): # 구조물 가능 여부 확인\n",
    "                answer.append([x, y, stuff]) # 가능한 구조물이 아니면 다시 설치\n",
    "        if operate == 1: # 설치\n",
    "            answer.append([x, y, stuff])\n",
    "            if not possible(answer):\n",
    "                answer.remove([x, y, stuff])\n",
    "    return sorted(answer)"
   ]
  },
  {
   "cell_type": "markdown",
   "id": "09f83625",
   "metadata": {},
   "source": [
    "## 치킨 배달"
   ]
  },
  {
   "cell_type": "code",
   "execution_count": 6,
   "id": "4f5f48f2",
   "metadata": {},
   "outputs": [
    {
     "name": "stdout",
     "output_type": "stream",
     "text": [
      "5 3\n",
      "0 0 1 0 0\n",
      "0 0 2 0 1\n",
      "0 1 2 0 0\n",
      "0 0 1 0 0\n",
      "0 0 0 0 2\n",
      "5\n"
     ]
    }
   ],
   "source": [
    "from itertools import combinations\n",
    "\n",
    "n, m = map(int, input().split())\n",
    "\n",
    "chicken = []\n",
    "house = []\n",
    "\n",
    "for i in range(n):\n",
    "    data = list(map(int, input().split()))\n",
    "    for j in range(n):\n",
    "        if data[j] == 1:\n",
    "            house.append((i, j))\n",
    "        elif data[j] == 2:\n",
    "            chicken.append((i, j))\n",
    "\n",
    "choices = list(combinations(chicken, m))\n",
    "\n",
    "def get_sum(candidate):\n",
    "    result = 0\n",
    "    for hx, hy in house:\n",
    "        temp = 1e9\n",
    "        for cx, cy in candidate:\n",
    "            temp = min(temp, abs(hx-cx)+abs(hy-cy))\n",
    "        result += temp\n",
    "    return result\n",
    "\n",
    "result = 1e9\n",
    "for choice in choices:\n",
    "    result = min(result, get_sum(choice))\n",
    "\n",
    "print(result)"
   ]
  },
  {
   "cell_type": "markdown",
   "id": "b07a1fac",
   "metadata": {},
   "source": [
    "## 외벽 점검"
   ]
  },
  {
   "cell_type": "code",
   "execution_count": 16,
   "id": "d0a67c19",
   "metadata": {},
   "outputs": [],
   "source": [
    "from itertools import permutations\n",
    "\n",
    "def solution(n, weak, dist):\n",
    "    \n",
    "    length = len(weak)\n",
    "    for i in range(length):\n",
    "        weak.append(weak[i] + n)\n",
    "    answer = len(dist) + 1 # 최솟값 비교를 위한 초기값\n",
    "    \n",
    "    for start in range(length):\n",
    "        for friends in list(permutations(dist, len(dist))):\n",
    "            count = 1 # 투입할 친구 수\n",
    "            # 점검 마지막 위치\n",
    "            end = weak[start] + friends[count-1]\n",
    "            for index in range(start, start+length):\n",
    "                # 점검할 수 있는 위치를 벗어나는 경우\n",
    "                if end < weak[index]:\n",
    "                    count += 1\n",
    "                    if count > len(dist):\n",
    "                        break\n",
    "                    end = weak[index] + friends[count-1]\n",
    "            answer = min(answer, count)\n",
    "    if answer > len(dist):\n",
    "        return -1\n",
    "    return answer"
   ]
  },
  {
   "cell_type": "code",
   "execution_count": 17,
   "id": "3fb03738",
   "metadata": {},
   "outputs": [
    {
     "data": {
      "text/plain": [
       "1"
      ]
     },
     "execution_count": 17,
     "metadata": {},
     "output_type": "execute_result"
    }
   ],
   "source": [
    "solution(12, [1, 3, 4, 9, 10], [3, 5, 7])"
   ]
  },
  {
   "cell_type": "code",
   "execution_count": 18,
   "id": "559def1f",
   "metadata": {},
   "outputs": [
    {
     "data": {
      "text/plain": [
       "2"
      ]
     },
     "execution_count": 18,
     "metadata": {},
     "output_type": "execute_result"
    }
   ],
   "source": [
    "solution(12, [1, 5, 6, 10], [1, 2, 3, 4])"
   ]
  },
  {
   "cell_type": "markdown",
   "id": "2a780e5f",
   "metadata": {},
   "source": [
    "## 특정 거리의 도시 찾기"
   ]
  },
  {
   "cell_type": "code",
   "execution_count": 22,
   "id": "c741bdc3",
   "metadata": {},
   "outputs": [
    {
     "name": "stdout",
     "output_type": "stream",
     "text": [
      "4 4 1 1\n",
      "1 2\n",
      "1 3\n",
      "2 3\n",
      "2 4\n",
      "2\n",
      "3\n"
     ]
    }
   ],
   "source": [
    "from collections import deque\n",
    "\n",
    "n, m, k, x = map(int, input().split())\n",
    "graph = [[] for _ in range(n + 1)]\n",
    "\n",
    "for _ in range(m):\n",
    "    a, b = map(int, input().split())\n",
    "    graph[a].append(b)\n",
    "    \n",
    "distance = [-1] * (n + 1)\n",
    "distance[x] = 0 # 출발 도시까지의 거리는 0\n",
    "\n",
    "# BFS\n",
    "q = deque([x])\n",
    "\n",
    "while q:\n",
    "    now = q.popleft()\n",
    "    # 현재 도시에서 이동할 수 없는 모든 도시 확인\n",
    "    for next_node in graph[now]:\n",
    "        if distance[next_node] == -1:\n",
    "            distance[next_node] = distance[now] + 1\n",
    "            q.append(next_node)\n",
    "\n",
    "if distance.count(k) == 0:\n",
    "    print(-1)\n",
    "\n",
    "if distance.count(k) != 0:\n",
    "    for i in range(1, n + 1):\n",
    "        if distance[i] == k:\n",
    "            print(i)"
   ]
  }
 ],
 "metadata": {
  "kernelspec": {
   "display_name": "Python 3 (ipykernel)",
   "language": "python",
   "name": "python3"
  },
  "language_info": {
   "codemirror_mode": {
    "name": "ipython",
    "version": 3
   },
   "file_extension": ".py",
   "mimetype": "text/x-python",
   "name": "python",
   "nbconvert_exporter": "python",
   "pygments_lexer": "ipython3",
   "version": "3.9.7"
  }
 },
 "nbformat": 4,
 "nbformat_minor": 5
}
