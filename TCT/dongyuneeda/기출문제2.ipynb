{
 "cells": [
  {
   "cell_type": "markdown",
   "id": "d10879a7",
   "metadata": {},
   "source": [
    "## 6. 무지의 먹방 라이브 "
   ]
  },
  {
   "cell_type": "code",
   "execution_count": 1,
   "id": "d256c104",
   "metadata": {},
   "outputs": [
    {
     "name": "stdout",
     "output_type": "stream",
     "text": [
      "3 1 2\n",
      "5\n"
     ]
    }
   ],
   "source": [
    "import heapq\n",
    "\n",
    "food_times = list(map(int,input().split()))\n",
    "k = int(input())"
   ]
  },
  {
   "cell_type": "code",
   "execution_count": 2,
   "id": "ca86bddb",
   "metadata": {},
   "outputs": [],
   "source": [
    "def solution(food_times,k):\n",
    "    if sum(food_times) <= k:\n",
    "        return -1\n",
    "    \n",
    "    q = []\n",
    "    for i in range(len(food_times)):\n",
    "        heapq.heappush(q,(food_times[i],i+1)) #(음식 먹는 시간, 음식 번호)\n",
    "        \n",
    "    sum_value = 0\n",
    "    previous = 0\n",
    "    length = len(food_times)\n",
    "    \n",
    "    while sum_value + ((q[0][0]-previous)*length) <= k: # 그 전 반복에서 먹은 시간 + (가장 짧은시간- 그 전에 먹은 시간)*현재 남은 길이\n",
    "        now = heapq.heappop(q)[0] #가장 짧은 음식 먹는 시간\n",
    "        sum_value += (now-previous)*length #짧은 시간만큼 음식 먹음\n",
    "        length -= 1 # 다먹은 음식 제외\n",
    "        previous = now # 시간 재설정\n",
    "    \n",
    "    result = sorted(q, key=lambda x:x[1]) # 음식 번호 기준으로 정렬\n",
    "    return result[(k-sum_value)%length][1]"
   ]
  },
  {
   "cell_type": "code",
   "execution_count": 3,
   "id": "4251293f",
   "metadata": {},
   "outputs": [
    {
     "data": {
      "text/plain": [
       "1"
      ]
     },
     "execution_count": 3,
     "metadata": {},
     "output_type": "execute_result"
    }
   ],
   "source": [
    "solution(food_times,k)"
   ]
  },
  {
   "cell_type": "markdown",
   "id": "8b183d0a",
   "metadata": {},
   "source": [
    "## 7. 럭키 스트레이트"
   ]
  },
  {
   "cell_type": "code",
   "execution_count": 5,
   "id": "758f6b5d",
   "metadata": {},
   "outputs": [
    {
     "name": "stdout",
     "output_type": "stream",
     "text": [
      "123402\n"
     ]
    }
   ],
   "source": [
    "data = input()\n",
    "data1 = data[:len(data)//2]\n",
    "data2 = data[len(data)//2:]"
   ]
  },
  {
   "cell_type": "code",
   "execution_count": 9,
   "id": "636ec353",
   "metadata": {},
   "outputs": [
    {
     "name": "stdout",
     "output_type": "stream",
     "text": [
      "LUCKY\n"
     ]
    }
   ],
   "source": [
    "if eval('+'.join(data1)) == eval('+'.join(data1)):\n",
    "    print('LUCKY')\n",
    "else:\n",
    "    print('READY')"
   ]
  },
  {
   "cell_type": "markdown",
   "id": "f4d932df",
   "metadata": {},
   "source": [
    "## 8. 문자열 재정렬"
   ]
  },
  {
   "cell_type": "code",
   "execution_count": 27,
   "id": "c433863e",
   "metadata": {},
   "outputs": [
    {
     "name": "stdout",
     "output_type": "stream",
     "text": [
      "K1KA5CB7\n"
     ]
    },
    {
     "data": {
      "text/plain": [
       "['K', '1', 'K', 'A', '5', 'C', 'B', '7']"
      ]
     },
     "execution_count": 27,
     "metadata": {},
     "output_type": "execute_result"
    }
   ],
   "source": [
    "data = list(input())\n",
    "data"
   ]
  },
  {
   "cell_type": "code",
   "execution_count": 28,
   "id": "394e9d48",
   "metadata": {},
   "outputs": [
    {
     "name": "stdout",
     "output_type": "stream",
     "text": [
      "ABCKK13\n"
     ]
    }
   ],
   "source": [
    "a = 0\n",
    "for d in data:\n",
    "    if d.isdigit() == True:\n",
    "        a += int(d)\n",
    "        data.remove(d)\n",
    "print(''.join(sorted(data))+str(a))"
   ]
  },
  {
   "cell_type": "markdown",
   "id": "15bddfe9",
   "metadata": {},
   "source": [
    "## 9. 문자열 압축"
   ]
  },
  {
   "cell_type": "code",
   "execution_count": 29,
   "id": "f6d247ab",
   "metadata": {},
   "outputs": [
    {
     "name": "stdout",
     "output_type": "stream",
     "text": [
      "aabbaccc\n"
     ]
    },
    {
     "data": {
      "text/plain": [
       "'aabbaccc'"
      ]
     },
     "execution_count": 29,
     "metadata": {},
     "output_type": "execute_result"
    }
   ],
   "source": [
    "data = input()\n",
    "data"
   ]
  },
  {
   "cell_type": "code",
   "execution_count": 32,
   "id": "194bbdf0",
   "metadata": {},
   "outputs": [],
   "source": [
    "def solution(s):\n",
    "    answer = len(s)\n",
    "    for step in range(1,len(s)//2+1):\n",
    "        compressed = \"\"\n",
    "        count = 1\n",
    "        prev = s[0:step]\n",
    "        for j in range(step,len(s),step):\n",
    "            if prev == s[j:j+step]:\n",
    "                count +=1\n",
    "            else:\n",
    "                compressed += str(count) + prev if count >=2 else prev\n",
    "                prev = s[j:j+step]\n",
    "                count = 1\n",
    "        compressed += str(count) + prev if count >= 2 else prev\n",
    "        answer = min(answer, len(compressed))\n",
    "    return answer"
   ]
  },
  {
   "cell_type": "code",
   "execution_count": 33,
   "id": "7c0f8550",
   "metadata": {},
   "outputs": [
    {
     "name": "stdout",
     "output_type": "stream",
     "text": [
      "7\n"
     ]
    }
   ],
   "source": [
    "print(solution(data))"
   ]
  },
  {
   "cell_type": "markdown",
   "id": "a7fba896",
   "metadata": {},
   "source": [
    "## 10. 자물쇠와 열쇠"
   ]
  },
  {
   "cell_type": "markdown",
   "id": "d733c75d",
   "metadata": {},
   "source": [
    "90도 회전 & 한 칸씩 이동하면서 홈에 잘 맞는지 계속 확인해서 new_lock 행렬 중 가운데 $N \\times N$ 원소가 다 1이 되면 True"
   ]
  },
  {
   "cell_type": "code",
   "execution_count": 34,
   "id": "fe2a72f2",
   "metadata": {},
   "outputs": [],
   "source": [
    "key = [[0,0,0],[1,0,0],[0,1,1]]\n",
    "lock = [[1,1,1],[1,1,0],[1,0,1]]"
   ]
  },
  {
   "cell_type": "code",
   "execution_count": 37,
   "id": "b70442cb",
   "metadata": {},
   "outputs": [],
   "source": [
    "def rotate_90(a):\n",
    "    n = len(a)\n",
    "    m = len(a[0])\n",
    "    result = [[0]*n for _ in range(m)]\n",
    "    for i in range(n):\n",
    "        for j in range(m):\n",
    "            result[j][n-i-1] = a[i][j]\n",
    "    return result\n",
    "\n",
    "def check(new_lock):\n",
    "    lock_length = len(new_lock)//3\n",
    "    for i in range(lock_length, lock_length*2):\n",
    "        for j in range(lock_length,lock_length*2):\n",
    "            if new_lock[i][j] !=1:\n",
    "                return False\n",
    "    return True\n",
    "\n",
    "def solution(key,lock):\n",
    "    n = len(lock)\n",
    "    m = len(key)\n",
    "    \n",
    "    new_lock = [[0]*(n*3) for _ in range(n*3)]\n",
    "    for i in range(n):\n",
    "        for j in range(n):\n",
    "            new_lock[i+n][j+n] = lock[i][j]\n",
    "            \n",
    "            \n",
    "    for rotation in range(4):\n",
    "        key = rotate_90(key)\n",
    "        for x in range(n*2):\n",
    "            for y in range(n*2):\n",
    "                for i in range(m):\n",
    "                    for j in range(m):\n",
    "                        new_lock[x+i][y+j] += key[i][j]\n",
    "                        \n",
    "                if check(new_lock) == True:\n",
    "                    return True\n",
    "                \n",
    "                for i in range(m):\n",
    "                    for j in range(m):\n",
    "                        new_lock[x+i][y+j] -= key[i][j]\n",
    "    return False"
   ]
  },
  {
   "cell_type": "code",
   "execution_count": 38,
   "id": "df8c87cb",
   "metadata": {},
   "outputs": [
    {
     "data": {
      "text/plain": [
       "True"
      ]
     },
     "execution_count": 38,
     "metadata": {},
     "output_type": "execute_result"
    }
   ],
   "source": [
    "solution(key,lock)"
   ]
  }
 ],
 "metadata": {
  "kernelspec": {
   "display_name": "Python 3 (ipykernel)",
   "language": "python",
   "name": "python3"
  },
  "language_info": {
   "codemirror_mode": {
    "name": "ipython",
    "version": 3
   },
   "file_extension": ".py",
   "mimetype": "text/x-python",
   "name": "python",
   "nbconvert_exporter": "python",
   "pygments_lexer": "ipython3",
   "version": "3.9.6"
  }
 },
 "nbformat": 4,
 "nbformat_minor": 5
}
