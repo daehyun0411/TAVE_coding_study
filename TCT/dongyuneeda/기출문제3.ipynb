{
 "cells": [
  {
   "cell_type": "markdown",
   "id": "9f52b0ef",
   "metadata": {},
   "source": [
    "## 11. 뱀"
   ]
  },
  {
   "cell_type": "code",
   "execution_count": 47,
   "id": "75e27527",
   "metadata": {},
   "outputs": [
    {
     "name": "stdout",
     "output_type": "stream",
     "text": [
      "10\n",
      "4\n",
      "1 2\n",
      "1 3\n",
      "1 4\n",
      "1 5\n",
      "4\n",
      "8 D\n",
      "10 D\n",
      "11 D\n",
      "13 L\n"
     ]
    }
   ],
   "source": [
    "n = int(input())\n",
    "k = int(input())\n",
    "\n",
    "visited = [[0]*(n+1) for i in range(n+1)]\n",
    "graph = [[0]*(n+1) for i in range(n+1)]\n",
    "for _ in range(k):\n",
    "    i,j = map(int,input().split())\n",
    "    graph[i][j] = 1\n",
    "\n",
    "l = int(input())\n",
    "direction = {}\n",
    "for _ in range(l):\n",
    "    a,b= input().split()\n",
    "    a = int(a)\n",
    "    direction[a]=b"
   ]
  },
  {
   "cell_type": "code",
   "execution_count": 48,
   "id": "c3e7a1a3",
   "metadata": {},
   "outputs": [
    {
     "name": "stdout",
     "output_type": "stream",
     "text": [
      "21\n"
     ]
    }
   ],
   "source": [
    "from collections import deque\n",
    "\n",
    "dx = [0,1,0,-1]\n",
    "dy = [1,0,-1,0]\n",
    "d = 0\n",
    "x = 1\n",
    "y = 1\n",
    "count = 0\n",
    "visited[x][y] = 1\n",
    "tail = deque()\n",
    "tail.append((x,y))\n",
    "while True:\n",
    "    if count in direction.keys():\n",
    "        if direction[count] == 'D':\n",
    "            d +=1\n",
    "        else:\n",
    "            d -=1\n",
    "            \n",
    "    if d>3:\n",
    "        d = 0\n",
    "    elif d<0:\n",
    "        d = 3\n",
    "    \n",
    "    nx = x + dx[d]\n",
    "    ny = y + dy[d]\n",
    "    \n",
    "    if nx<1 or ny<1 or nx>n or ny >n:\n",
    "        count +=1\n",
    "        break\n",
    "    \n",
    "    if visited[nx][ny] == 0 and graph[nx][ny] == 1:\n",
    "        visited[nx][ny] = 1\n",
    "        graph[nx][ny] = 0\n",
    "        x,y = nx ,ny\n",
    "        tail.append((x,y))\n",
    "        count += 1  \n",
    "        \n",
    "    elif visited[nx][ny] == 0 and graph[nx][ny] == 0:\n",
    "        visited[nx][ny] = 1\n",
    "        x,y = nx ,ny\n",
    "        tail.append((x,y))\n",
    "        tx,ty = tail.popleft()\n",
    "        visited[tx][ty] = 0\n",
    "        count += 1\n",
    "    else:\n",
    "        count +=1\n",
    "        break\n",
    "\n",
    "print(count)"
   ]
  },
  {
   "cell_type": "markdown",
   "id": "c0eafe7b",
   "metadata": {},
   "source": [
    "## 12. 기둥과 보 설치"
   ]
  },
  {
   "cell_type": "code",
   "execution_count": 51,
   "id": "f15f97a9",
   "metadata": {},
   "outputs": [
    {
     "name": "stdout",
     "output_type": "stream",
     "text": [
      "5\n"
     ]
    }
   ],
   "source": [
    "n = int(input())\n",
    "build_frame = [[1,0,0,1],[1,1,1,1],[2,1,0,1],[2,2,1,1],[5,0,0,1],[5,1,0,1],[4,2,1,1],[3,2,1,1]]"
   ]
  },
  {
   "cell_type": "code",
   "execution_count": 61,
   "id": "f88deae5",
   "metadata": {},
   "outputs": [],
   "source": [
    "def possible(answer):\n",
    "    for x,y,a in answer: \n",
    "        if a == 0: #기둥 조건 : '바닥 위' 혹은 '보의 한쪽 끝부분 위' 혹은 '다른 기둥 위'\n",
    "            if y==0 or [x-1,y,1] in answer or [x,y,1] in answer or [x,y-1,0] in answer:\n",
    "                continue\n",
    "            return False\n",
    "        else: # 보 조건 : '한 쪽 끝부분이 기둥 위' 혹은 양쪽 끝부분이 다른 보와 동시에 연결'\n",
    "            if [x,y-1,0] in answer or [x+1,y-1,0] in answer or ([x-1,y,1] in answer and [x+1,y,1] in answer):\n",
    "                continue\n",
    "            return False\n",
    "    return True\n",
    "    \n",
    "def solution(n,build_frame):\n",
    "    answer = []\n",
    "    for frame in build_frame:\n",
    "        x,y,a,b = frame\n",
    "        if b == 0: #삭제\n",
    "            answer.remove([x,y,a]) #삭제 후\n",
    "            if not possible(answer): # 가능한 구조물인지 확인한다.\n",
    "                answer.append([x,y,a]) # 구조물이 불가능하다면 삭제하지 않고 다시 추가\n",
    "        if b == 1: #설치\n",
    "            answer.append([x,y,a]) #추가 후 \n",
    "            if not possible(answer): # 가능한 구조물인지 확인한다.\n",
    "                answer.remove([x,y,a]) # 구조물이 불가능하다면 추가하지 않고 다시 삭제\n",
    "    return sorted(answer)"
   ]
  },
  {
   "cell_type": "code",
   "execution_count": 62,
   "id": "3b688023",
   "metadata": {},
   "outputs": [
    {
     "data": {
      "text/plain": [
       "[[1, 0, 0],\n",
       " [1, 1, 1],\n",
       " [2, 1, 0],\n",
       " [2, 2, 1],\n",
       " [3, 2, 1],\n",
       " [4, 2, 1],\n",
       " [5, 0, 0],\n",
       " [5, 1, 0]]"
      ]
     },
     "execution_count": 62,
     "metadata": {},
     "output_type": "execute_result"
    }
   ],
   "source": [
    "solution(n,build_frame)"
   ]
  },
  {
   "cell_type": "markdown",
   "id": "46431d63",
   "metadata": {},
   "source": [
    "## 13. 치킨배달"
   ]
  },
  {
   "cell_type": "code",
   "execution_count": 68,
   "id": "1d1f7df4",
   "metadata": {},
   "outputs": [],
   "source": [
    "import numpy as np"
   ]
  },
  {
   "cell_type": "code",
   "execution_count": 80,
   "id": "03da0298",
   "metadata": {},
   "outputs": [
    {
     "name": "stdout",
     "output_type": "stream",
     "text": [
      "5 3\n",
      "0 0 1 0 0\n",
      "0 0 2 0 1\n",
      "0 1 2 0 0\n",
      "0 0 1 0 0\n",
      "0 0 0 0 2\n"
     ]
    }
   ],
   "source": [
    "n ,m = map(int,input().split())\n",
    "house = []\n",
    "chicken = []\n",
    "for r in range(n):\n",
    "    data = list(map(int,input().split()))\n",
    "    for c in range(n):\n",
    "        if data[c] ==1:\n",
    "            house.append((r,c))\n",
    "        elif data[c] == 2:\n",
    "            chicken.append((r,c))"
   ]
  },
  {
   "cell_type": "code",
   "execution_count": 92,
   "id": "48781209",
   "metadata": {},
   "outputs": [
    {
     "data": {
      "text/plain": [
       "[(0, 2), (1, 4), (2, 1), (3, 2)]"
      ]
     },
     "execution_count": 92,
     "metadata": {},
     "output_type": "execute_result"
    }
   ],
   "source": [
    "house"
   ]
  },
  {
   "cell_type": "code",
   "execution_count": 82,
   "id": "296211f2",
   "metadata": {},
   "outputs": [
    {
     "data": {
      "text/plain": [
       "[((1, 2), (2, 2), (4, 4))]"
      ]
     },
     "execution_count": 82,
     "metadata": {},
     "output_type": "execute_result"
    }
   ],
   "source": [
    "from itertools import combinations\n",
    "\n",
    "chicken_list = list(combinations(chicken,m))\n",
    "chicken_list"
   ]
  },
  {
   "cell_type": "code",
   "execution_count": 91,
   "id": "4cdeb90a",
   "metadata": {},
   "outputs": [
    {
     "data": {
      "text/plain": [
       "((1, 2), (2, 2), (4, 4))"
      ]
     },
     "execution_count": 91,
     "metadata": {},
     "output_type": "execute_result"
    }
   ],
   "source": [
    "chicken_list[0]"
   ]
  },
  {
   "cell_type": "code",
   "execution_count": 94,
   "id": "b69793ae",
   "metadata": {},
   "outputs": [
    {
     "name": "stdout",
     "output_type": "stream",
     "text": [
      "5\n"
     ]
    }
   ],
   "source": [
    "def distance(chicken_list,house):\n",
    "    result = 0\n",
    "    for hx,hy in house:\n",
    "        temp = 1e9\n",
    "        for cx,cy in chicken_list[0]:\n",
    "            temp = min(temp,abs(hx-cx)+abs(hy-cy))\n",
    "        result += temp\n",
    "    return result\n",
    "    \n",
    "result = 1e9\n",
    "result = min(result,distance(chicken_list,house))\n",
    "    \n",
    "print(result)"
   ]
  },
  {
   "cell_type": "markdown",
   "id": "8b708991",
   "metadata": {},
   "source": [
    "## 14. 외벽 점검"
   ]
  },
  {
   "cell_type": "code",
   "execution_count": 1,
   "id": "ee0a50ca",
   "metadata": {},
   "outputs": [
    {
     "name": "stdout",
     "output_type": "stream",
     "text": [
      "12\n",
      "1 5 6 10\n",
      "1 2 3 4\n"
     ]
    }
   ],
   "source": [
    "n = int(input())\n",
    "weak = list(map(int,input().split()))\n",
    "dist = list(map(int,input().split()))"
   ]
  },
  {
   "cell_type": "code",
   "execution_count": 14,
   "id": "37563c00",
   "metadata": {},
   "outputs": [],
   "source": [
    "from itertools import permutations\n",
    "\n",
    "def solution(n,weak,dist):\n",
    "    length = len(weak)\n",
    "    for i in range(length):\n",
    "        weak.append(weak[i]+n)\n",
    "    answer = len(dist)+1\n",
    "    \n",
    "    for start in range(length):\n",
    "        for friends in list(permutations(dist,len(dist))): #순열 이용하여 완전탐색\n",
    "            count=1\n",
    "            position = weak[start]+friends[count-1] # 해당 친구가 점검하는 위치 끝\n",
    "            for index in range(start, start + length):\n",
    "                if position < weak[index]:\n",
    "                    count +=1\n",
    "                    if count > len(dist):\n",
    "                        break\n",
    "                    position = weak[index]+friends[count-1] # position 갱신\n",
    "            answer = min(answer,count)\n",
    "    if answer > len(dist):\n",
    "        return -1\n",
    "    return answer"
   ]
  },
  {
   "cell_type": "code",
   "execution_count": 15,
   "id": "5fe2ae89",
   "metadata": {},
   "outputs": [
    {
     "data": {
      "text/plain": [
       "2"
      ]
     },
     "execution_count": 15,
     "metadata": {},
     "output_type": "execute_result"
    }
   ],
   "source": [
    "solution(n,weak,dist)"
   ]
  },
  {
   "cell_type": "markdown",
   "id": "c27d8af4",
   "metadata": {},
   "source": [
    "## 15. 특정 거리의 도시 찾기"
   ]
  },
  {
   "cell_type": "markdown",
   "id": "4f981878",
   "metadata": {},
   "source": [
    "### DFS"
   ]
  },
  {
   "cell_type": "code",
   "execution_count": 67,
   "id": "0633b8e8",
   "metadata": {},
   "outputs": [
    {
     "name": "stdout",
     "output_type": "stream",
     "text": [
      "4 3 2 1\n",
      "1 2\n",
      "1 3\n",
      "1 4\n"
     ]
    }
   ],
   "source": [
    "n,m,k,x= map(int,input().split())\n",
    "graph=[[] for _ in range(n+1)]\n",
    "for _ in range(m):\n",
    "    x, y = map(int,input().split())\n",
    "    graph[x].append(y)"
   ]
  },
  {
   "cell_type": "code",
   "execution_count": 69,
   "id": "857fc451",
   "metadata": {},
   "outputs": [],
   "source": [
    "result = []\n",
    "def dfs(graph,v,visited,distance):\n",
    "    visited[v-1] = True\n",
    "    distance+=1\n",
    "    if distance == k:\n",
    "        result.append(v)\n",
    "    for i in graph[v-1]:\n",
    "        if not visited[i-1]:\n",
    "            dfs(graph, i ,visited,distance)"
   ]
  },
  {
   "cell_type": "code",
   "execution_count": 70,
   "id": "6aef3119",
   "metadata": {},
   "outputs": [],
   "source": [
    "visited = [False]*n"
   ]
  },
  {
   "cell_type": "code",
   "execution_count": 71,
   "id": "d3c39a67",
   "metadata": {},
   "outputs": [],
   "source": [
    "dfs(graph,x,visited,distance=-1) "
   ]
  },
  {
   "cell_type": "code",
   "execution_count": 72,
   "id": "c35b7055",
   "metadata": {},
   "outputs": [
    {
     "name": "stdout",
     "output_type": "stream",
     "text": [
      "-1\n"
     ]
    }
   ],
   "source": [
    "if result:\n",
    "    for i in result:\n",
    "        print(i)\n",
    "else:\n",
    "    print(-1)"
   ]
  },
  {
   "cell_type": "markdown",
   "id": "8646fffd",
   "metadata": {},
   "source": [
    "### BFS"
   ]
  },
  {
   "cell_type": "code",
   "execution_count": 25,
   "id": "a96e7d89",
   "metadata": {},
   "outputs": [
    {
     "name": "stdout",
     "output_type": "stream",
     "text": [
      "4 3 2 1\n",
      "1 2\n",
      "1 3\n",
      "1 4\n"
     ]
    }
   ],
   "source": [
    "n,m,k,x= map(int,input().split())\n",
    "graph=[[] for _ in range(n+1)]\n",
    "for _ in range(m):\n",
    "    x, y = map(int,input().split())\n",
    "    graph[x].append(y)"
   ]
  },
  {
   "cell_type": "code",
   "execution_count": 26,
   "id": "21886efb",
   "metadata": {},
   "outputs": [],
   "source": [
    "from collections import deque\n",
    "\n",
    "def bfs(x,graph,distance):\n",
    "    que = deque()\n",
    "    que.append(x)\n",
    "    distance[x] = 0\n",
    "    while que:\n",
    "        now = que.popleft()\n",
    "        for a in graph[now]:\n",
    "            if distance[a] == -1:\n",
    "                distance[a] = distance[now]+1\n",
    "                que.append(a)\n",
    "    return distance"
   ]
  },
  {
   "cell_type": "code",
   "execution_count": 27,
   "id": "7c89d1b2",
   "metadata": {},
   "outputs": [],
   "source": [
    "distance = [-1]*(n+1)"
   ]
  },
  {
   "cell_type": "code",
   "execution_count": 29,
   "id": "09685fd9",
   "metadata": {},
   "outputs": [],
   "source": [
    "dist = bfs(x,graph,distance)"
   ]
  },
  {
   "cell_type": "code",
   "execution_count": 30,
   "id": "3f59b106",
   "metadata": {},
   "outputs": [
    {
     "name": "stdout",
     "output_type": "stream",
     "text": [
      "-1\n"
     ]
    }
   ],
   "source": [
    "check = False\n",
    "for i in dist:\n",
    "    if i == k:\n",
    "        print(i)\n",
    "        check =True\n",
    "if check==False:\n",
    "    print(-1)"
   ]
  }
 ],
 "metadata": {
  "kernelspec": {
   "display_name": "Python 3 (ipykernel)",
   "language": "python",
   "name": "python3"
  },
  "language_info": {
   "codemirror_mode": {
    "name": "ipython",
    "version": 3
   },
   "file_extension": ".py",
   "mimetype": "text/x-python",
   "name": "python",
   "nbconvert_exporter": "python",
   "pygments_lexer": "ipython3",
   "version": "3.10.4"
  }
 },
 "nbformat": 4,
 "nbformat_minor": 5
}
